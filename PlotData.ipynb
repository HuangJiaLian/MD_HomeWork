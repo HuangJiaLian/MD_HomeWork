{
 "cells": [
  {
   "cell_type": "markdown",
   "metadata": {},
   "source": [
    "# 第一部分: 绘制末端距和外力随时间的变化"
   ]
  },
  {
   "cell_type": "code",
   "execution_count": 11,
   "metadata": {},
   "outputs": [],
   "source": [
    "import matplotlib.pyplot as plt \n",
    "import pandas as pd"
   ]
  },
  {
   "cell_type": "code",
   "execution_count": 12,
   "metadata": {},
   "outputs": [],
   "source": [
    "data1 = pd.read_csv('dist_vs_force_pure', sep=' ', header=None)"
   ]
  },
  {
   "cell_type": "code",
   "execution_count": 40,
   "metadata": {},
   "outputs": [
    {
     "data": {
      "image/png": "[encoded data removed]",
      "text/plain": [
       "<Figure size 360x360 with 1 Axes>"
      ]
     },
     "metadata": {
      "needs_background": "light"
     },
     "output_type": "display_data"
    }
   ],
   "source": [
    "fig = plt.figure(figsize=(5,5))\n",
    "plt.title('Polymer Pulled By External Force')\n",
    "ax = fig.add_subplot(111)\n",
    "ax.plot(data1[0],data1[1], label='Distance',linewidth=2.0)\n",
    "ax.plot(data1[0],data1[2], label='External Force',linewidth=2.0)\n",
    "plt.legend()\n",
    "plt.xlabel('Time Step')\n",
    "plt.savefig('./pic/result.svg')\n",
    "plt.savefig('./pic/result.png')\n",
    "plt.show()"
   ]
  },
  {
   "cell_type": "markdown",
   "metadata": {},
   "source": [
    "# 第二部分: 绘回旋半径随时间的变化"
   ]
  },
  {
   "cell_type": "code",
   "execution_count": 53,
   "metadata": {},
   "outputs": [],
   "source": [
    "# 导入numpy库, 重命名为np用来处理数据\n",
    "import numpy as np"
   ]
  },
  {
   "cell_type": "code",
   "execution_count": 54,
   "metadata": {},
   "outputs": [],
   "source": [
    "# 数据预处理使用Linux下的awk命令\n",
    "# awk 'NR%49>9 || NR%49==0 {print $2,$3}'  lammps.out  > out.data\n",
    "data2 = np.loadtxt('out.data')"
   ]
  },
  {
   "cell_type": "code",
   "execution_count": 64,
   "metadata": {},
   "outputs": [
    {
     "data": {
      "text/plain": [
       "array([[-3.99918e+01, -9.45931e-02],\n",
       "       [-3.98371e+01, -1.87030e-02],\n",
       "       [-3.99836e+01, -1.06391e+00],\n",
       "       ...,\n",
       "       [ 4.21922e+00,  5.65585e-01],\n",
       "       [ 5.53129e+00,  6.28555e-01],\n",
       "       [ 6.79325e+00,  7.09982e-01]])"
      ]
     },
     "execution_count": 64,
     "metadata": {},
     "output_type": "execute_result"
    }
   ],
   "source": [
    "# 显示坐标数据(x,y) 这里是二维的数据\n",
    "data2"
   ]
  },
  {
   "cell_type": "code",
   "execution_count": 65,
   "metadata": {
    "scrolled": true
   },
   "outputs": [
    {
     "data": {
      "text/plain": [
       "(40040, 2)"
      ]
     },
     "execution_count": 65,
     "metadata": {},
     "output_type": "execute_result"
    }
   ],
   "source": [
    "# 使用数据的形状\n",
    "data2.shape"
   ]
  },
  {
   "cell_type": "markdown",
   "metadata": {},
   "source": [
    "## 利用公式计算回旋半径\n",
    "回旋半径:\n",
    "$$R^2_g = \\frac{1}{n}\\sum_{i=0}^n(r_i -r_c)^2 \\tag{1}$$\n",
    "其中质心到原点的距离:\n",
    "$$r_c = \\frac{\\sum{_i^nm_i\\vec{r_i}}}{\\sum{_{i=0}^nm_i}} = \\frac{\\sum{_{i=0}^n\\vec{r_i}}}{n} \\tag{2}$$\n",
    "这个例子是二维的,因此:\n",
    "$$r_i = \\sqrt{x_i^2+y_i^2} \\tag{3}$$"
   ]
  },
  {
   "cell_type": "code",
   "execution_count": 70,
   "metadata": {},
   "outputs": [],
   "source": [
    "num_particle = 40\n",
    "rg_list = []\n",
    "for i in range(data.shape[0]):\n",
    "    if i % num_particle == 0:\n",
    "        # 1.算出质心到原点的距离r_c\n",
    "        sum_r = 0\n",
    "        for j in range(num_particle):\n",
    "            x,y = data[i+j,0],data[i+j,1]\n",
    "            sum_r += (x**2 + y**2)**(0.5)\n",
    "        r_c = sum_r/num_particle\n",
    "        \n",
    "        # 2.计算回旋半径\n",
    "        rg = 0\n",
    "        for j in range(num_particle):\n",
    "            x,y = data[i+j,0],data[i+j,1]\n",
    "            r = (x**2 + y**2)**(0.5)\n",
    "            rg += (r - r_c)**2\n",
    "        rg /= num_particle\n",
    "        rg = rg**(0.5)\n",
    "        rg_list.append(rg)"
   ]
  },
  {
   "cell_type": "code",
   "execution_count": 71,
   "metadata": {},
   "outputs": [],
   "source": [
    "# rg_list\n",
    "# data1[0]"
   ]
  },
  {
   "cell_type": "code",
   "execution_count": 72,
   "metadata": {},
   "outputs": [
    {
     "data": {
      "text/plain": [
       "1001"
      ]
     },
     "execution_count": 72,
     "metadata": {},
     "output_type": "execute_result"
    }
   ],
   "source": [
    "len(rg_list)"
   ]
  },
  {
   "cell_type": "code",
   "execution_count": 73,
   "metadata": {},
   "outputs": [],
   "source": [
    "# 将list转换成np.array,便于绘图\n",
    "rg_array = np.array(rg_list)"
   ]
  },
  {
   "cell_type": "code",
   "execution_count": 74,
   "metadata": {},
   "outputs": [
    {
     "data": {
      "text/plain": [
       "array([ 0.1620287 ,  0.51413461,  0.32762174, ..., 12.25181563,\n",
       "       12.23127788, 12.28608015])"
      ]
     },
     "execution_count": 74,
     "metadata": {},
     "output_type": "execute_result"
    }
   ],
   "source": [
    "rg_array"
   ]
  },
  {
   "cell_type": "code",
   "execution_count": 75,
   "metadata": {},
   "outputs": [
    {
     "data": {
      "text/plain": [
       "(1001,)"
      ]
     },
     "execution_count": 75,
     "metadata": {},
     "output_type": "execute_result"
    }
   ],
   "source": [
    "rg_array.shape"
   ]
  },
  {
   "cell_type": "code",
   "execution_count": 76,
   "metadata": {},
   "outputs": [],
   "source": [
    "time_step = np.array(list(range(1001)))*10000"
   ]
  },
  {
   "cell_type": "code",
   "execution_count": 77,
   "metadata": {},
   "outputs": [
    {
     "data": {
      "text/plain": [
       "array([       0,    10000,    20000, ...,  9980000,  9990000, 10000000])"
      ]
     },
     "execution_count": 77,
     "metadata": {},
     "output_type": "execute_result"
    }
   ],
   "source": [
    "time_step"
   ]
  },
  {
   "cell_type": "code",
   "execution_count": 78,
   "metadata": {},
   "outputs": [
    {
     "data": {
      "text/plain": [
       "(1001,)"
      ]
     },
     "execution_count": 78,
     "metadata": {},
     "output_type": "execute_result"
    }
   ],
   "source": [
    "time_step.shape"
   ]
  },
  {
   "cell_type": "code",
   "execution_count": 81,
   "metadata": {},
   "outputs": [
    {
     "data": {
      "image/png": "[encoded data removed]",
      "text/plain": [
       "<Figure size 360x360 with 1 Axes>"
      ]
     },
     "metadata": {
      "needs_background": "light"
     },
     "output_type": "display_data"
    }
   ],
   "source": [
    "fig = plt.figure(figsize=(5,5))\n",
    "plt.title('Polymer Pulled By External Force: Rg Change')\n",
    "ax = fig.add_subplot(111)\n",
    "ax.plot(time_step,rg_array, label='Rg',linewidth=2.0)\n",
    "plt.legend()\n",
    "plt.xlabel('Time Step')\n",
    "plt.savefig('./pic/rg.svg')\n",
    "plt.savefig('./pic/rg.png')\n",
    "plt.show()"
   ]
  },
  {
   "cell_type": "markdown",
   "metadata": {},
   "source": [
    "参考:[1] http://www.zqex.dk/index.php/teaching/lammps-demo"
   ]
  },
  {
   "cell_type": "code",
   "execution_count": null,
   "metadata": {},
   "outputs": [],
   "source": []
  }
 ],
 "metadata": {
  "kernelspec": {
   "display_name": "Python 3",
   "language": "python",
   "name": "python3"
  },
  "language_info": {
   "codemirror_mode": {
    "name": "ipython",
    "version": 3
   },
   "file_extension": ".py",
   "mimetype": "text/x-python",
   "name": "python",
   "nbconvert_exporter": "python",
   "pygments_lexer": "ipython3",
   "version": "3.7.1"
  }
 },
 "nbformat": 4,
 "nbformat_minor": 2
}
